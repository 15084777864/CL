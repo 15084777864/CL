{
 "cells": [
  {
   "cell_type": "code",
   "execution_count": 27,
   "metadata": {},
   "outputs": [],
   "source": [
    "from sklearn import preprocessing\n",
    "import pandas as pd\n",
    "import numpy as np\n",
    "import os\n",
    "import tarfile\n",
    "from keras.optimizers import adam, rmsprop, adadelta\n",
    "import csv\n",
    "from keras.models import Sequential\n",
    "from keras.layers import Dense,Dropout\n",
    "import matplotlib.pyplot as plt\n",
    "from keras.callbacks import EarlyStopping\n",
    "import random\n",
    "import numpy as np\n",
    "from sklearn.model_selection import train_test_split\n",
    "from sklearn.linear_model import LinearRegression\n",
    "from sklearn.ensemble import RandomForestClassifier\n",
    "from sklearn.datasets import make_classification\n",
    "from sklearn import preprocessing\n",
    "from sklearn.tree import  DecisionTreeRegressor\n",
    "import tensorflow as tf\n",
    "from sklearn.metrics import roc_auc_score\n",
    "from keras import backend as K\n",
    "from keras import optimizers"
   ]
  },
  {
   "cell_type": "code",
   "execution_count": 4,
   "metadata": {},
   "outputs": [],
   "source": [
    "#导入数据\n",
    "data=data = pd.read_csv(\"E:/ELEC3D_for_Chen/train_data.csv\")"
   ]
  },
  {
   "cell_type": "code",
   "execution_count": 5,
   "metadata": {},
   "outputs": [
    {
     "data": {
      "text/html": [
       "<div>\n",
       "<style scoped>\n",
       "    .dataframe tbody tr th:only-of-type {\n",
       "        vertical-align: middle;\n",
       "    }\n",
       "\n",
       "    .dataframe tbody tr th {\n",
       "        vertical-align: top;\n",
       "    }\n",
       "\n",
       "    .dataframe thead th {\n",
       "        text-align: right;\n",
       "    }\n",
       "</style>\n",
       "<table border=\"1\" class=\"dataframe\">\n",
       "  <thead>\n",
       "    <tr style=\"text-align: right;\">\n",
       "      <th></th>\n",
       "      <th>label</th>\n",
       "      <th>Upper_quartile</th>\n",
       "      <th>Lower_Quantile</th>\n",
       "      <th>quartile_deviation</th>\n",
       "      <th>Median</th>\n",
       "      <th>average_value</th>\n",
       "      <th>standard_deviation</th>\n",
       "      <th>Dispersion_coefficient</th>\n",
       "      <th>skewness</th>\n",
       "      <th>kurtosis</th>\n",
       "      <th>mean_width</th>\n",
       "      <th>surface</th>\n",
       "      <th>volume</th>\n",
       "    </tr>\n",
       "  </thead>\n",
       "  <tbody>\n",
       "    <tr>\n",
       "      <th>0</th>\n",
       "      <td>0.077249</td>\n",
       "      <td>4.000000</td>\n",
       "      <td>15.000000</td>\n",
       "      <td>11.000000</td>\n",
       "      <td>9.666667</td>\n",
       "      <td>9.483417</td>\n",
       "      <td>5.795143</td>\n",
       "      <td>0.611082</td>\n",
       "      <td>0.007080</td>\n",
       "      <td>-1.222705</td>\n",
       "      <td>1.901743</td>\n",
       "      <td>11986.0</td>\n",
       "      <td>4000.0</td>\n",
       "    </tr>\n",
       "    <tr>\n",
       "      <th>1</th>\n",
       "      <td>0.075093</td>\n",
       "      <td>5.000000</td>\n",
       "      <td>14.333333</td>\n",
       "      <td>9.333333</td>\n",
       "      <td>10.000000</td>\n",
       "      <td>9.545917</td>\n",
       "      <td>5.722319</td>\n",
       "      <td>0.599452</td>\n",
       "      <td>-0.013571</td>\n",
       "      <td>-1.189178</td>\n",
       "      <td>1.910220</td>\n",
       "      <td>11968.0</td>\n",
       "      <td>4000.0</td>\n",
       "    </tr>\n",
       "    <tr>\n",
       "      <th>2</th>\n",
       "      <td>0.077239</td>\n",
       "      <td>4.333333</td>\n",
       "      <td>14.666667</td>\n",
       "      <td>10.333333</td>\n",
       "      <td>9.666667</td>\n",
       "      <td>9.522583</td>\n",
       "      <td>5.765345</td>\n",
       "      <td>0.605439</td>\n",
       "      <td>-0.004310</td>\n",
       "      <td>-1.212922</td>\n",
       "      <td>1.906275</td>\n",
       "      <td>11972.0</td>\n",
       "      <td>4000.0</td>\n",
       "    </tr>\n",
       "    <tr>\n",
       "      <th>3</th>\n",
       "      <td>0.077881</td>\n",
       "      <td>4.333333</td>\n",
       "      <td>14.666667</td>\n",
       "      <td>10.333333</td>\n",
       "      <td>9.666667</td>\n",
       "      <td>9.538583</td>\n",
       "      <td>5.770752</td>\n",
       "      <td>0.604990</td>\n",
       "      <td>-0.009660</td>\n",
       "      <td>-1.204863</td>\n",
       "      <td>1.903251</td>\n",
       "      <td>11996.0</td>\n",
       "      <td>4000.0</td>\n",
       "    </tr>\n",
       "    <tr>\n",
       "      <th>4</th>\n",
       "      <td>0.077418</td>\n",
       "      <td>5.000000</td>\n",
       "      <td>14.666667</td>\n",
       "      <td>9.666667</td>\n",
       "      <td>10.000000</td>\n",
       "      <td>9.545917</td>\n",
       "      <td>5.773821</td>\n",
       "      <td>0.604847</td>\n",
       "      <td>-0.006533</td>\n",
       "      <td>-1.208783</td>\n",
       "      <td>1.881173</td>\n",
       "      <td>12152.0</td>\n",
       "      <td>4000.0</td>\n",
       "    </tr>\n",
       "  </tbody>\n",
       "</table>\n",
       "</div>"
      ],
      "text/plain": [
       "      label  Upper_quartile  Lower_Quantile  quartile_deviation     Median  \\\n",
       "0  0.077249        4.000000       15.000000           11.000000   9.666667   \n",
       "1  0.075093        5.000000       14.333333            9.333333  10.000000   \n",
       "2  0.077239        4.333333       14.666667           10.333333   9.666667   \n",
       "3  0.077881        4.333333       14.666667           10.333333   9.666667   \n",
       "4  0.077418        5.000000       14.666667            9.666667  10.000000   \n",
       "\n",
       "   average_value  standard_deviation  Dispersion_coefficient  skewness  \\\n",
       "0       9.483417            5.795143                0.611082  0.007080   \n",
       "1       9.545917            5.722319                0.599452 -0.013571   \n",
       "2       9.522583            5.765345                0.605439 -0.004310   \n",
       "3       9.538583            5.770752                0.604990 -0.009660   \n",
       "4       9.545917            5.773821                0.604847 -0.006533   \n",
       "\n",
       "   kurtosis  mean_width  surface  volume  \n",
       "0 -1.222705    1.901743  11986.0  4000.0  \n",
       "1 -1.189178    1.910220  11968.0  4000.0  \n",
       "2 -1.212922    1.906275  11972.0  4000.0  \n",
       "3 -1.204863    1.903251  11996.0  4000.0  \n",
       "4 -1.208783    1.881173  12152.0  4000.0  "
      ]
     },
     "execution_count": 5,
     "metadata": {},
     "output_type": "execute_result"
    }
   ],
   "source": [
    "#查看\n",
    "data.head()"
   ]
  },
  {
   "cell_type": "code",
   "execution_count": 6,
   "metadata": {},
   "outputs": [],
   "source": [
    "#分割标签和特征项\n",
    "y = data['label'].copy()\n",
    "X = data[['Upper_quartile','Lower_Quantile','quartile_deviation','Median','average_value','standard_deviation',\n",
    "                     'Dispersion_coefficient','skewness','kurtosis','mean_width','surface']].copy()"
   ]
  },
  {
   "cell_type": "code",
   "execution_count": 7,
   "metadata": {},
   "outputs": [],
   "source": [
    "#分割训练集和验证集\n",
    "X_train, X_test, y_train, y_test = train_test_split(X, y, test_size=0.2, random_state=0)"
   ]
  },
  {
   "cell_type": "code",
   "execution_count": 8,
   "metadata": {},
   "outputs": [
    {
     "data": {
      "text/plain": [
       "count        11\n",
       "unique        1\n",
       "top       False\n",
       "freq         11\n",
       "dtype: object"
      ]
     },
     "execution_count": 8,
     "metadata": {},
     "output_type": "execute_result"
    }
   ],
   "source": [
    "#查看是否缺失\n",
    "X_train.isnull().any().describe()"
   ]
  },
  {
   "cell_type": "code",
   "execution_count": 9,
   "metadata": {},
   "outputs": [],
   "source": [
    "#归一化处理\n",
    "X=(X- X.min()) / (X.max() - X.min())\n",
    "X_train = (X_train- X.min()) / (X.max() - X.min())\n",
    "X_test=(X_test- X.min()) / (X.max() - X.min())"
   ]
  },
  {
   "cell_type": "code",
   "execution_count": 10,
   "metadata": {},
   "outputs": [],
   "source": [
    "#定义rmse，mae，R_Squared\n",
    "def compute_rmse(y1, y2):\n",
    "    return np.mean((y1 - y2) ** 2) ** 0.5\n",
    "\n",
    "\n",
    "def compute_mae(y1, y2):\n",
    "    return np.sum(np.abs(y1-y2))/len(np.abs(y1-y2))\n",
    "\n",
    "\n",
    "def compute_R_Squared(y1 , y2):\n",
    "    return 1 - np.mean((y1 - y2) ** 2) / np.var(y_test)"
   ]
  },
  {
   "cell_type": "code",
   "execution_count": 13,
   "metadata": {},
   "outputs": [
    {
     "data": {
      "text/plain": [
       "array([0.07669263, 0.07644563, 0.07686769, ..., 0.0760339 , 0.07720664,\n",
       "       0.07707427])"
      ]
     },
     "execution_count": 13,
     "metadata": {},
     "output_type": "execute_result"
    }
   ],
   "source": [
    "#线性模型\n",
    "LR =  LinearRegression()\n",
    "LR.fit(X_train,y_train)\n",
    "LR.predict(X_test)"
   ]
  },
  {
   "cell_type": "code",
   "execution_count": 14,
   "metadata": {},
   "outputs": [
    {
     "data": {
      "text/plain": [
       "0.0007171715808704012"
      ]
     },
     "execution_count": 14,
     "metadata": {},
     "output_type": "execute_result"
    }
   ],
   "source": [
    "compute_rmse(LR.predict(X_test), y_test)"
   ]
  },
  {
   "cell_type": "code",
   "execution_count": 15,
   "metadata": {},
   "outputs": [
    {
     "data": {
      "text/plain": [
       "0.0005750193091546919"
      ]
     },
     "execution_count": 15,
     "metadata": {},
     "output_type": "execute_result"
    }
   ],
   "source": [
    "compute_mae(LR.predict(X_test), y_test)"
   ]
  },
  {
   "cell_type": "code",
   "execution_count": 16,
   "metadata": {},
   "outputs": [
    {
     "data": {
      "text/plain": [
       "0.36504689872509"
      ]
     },
     "execution_count": 16,
     "metadata": {},
     "output_type": "execute_result"
    }
   ],
   "source": [
    "compute_R_Squared(LR.predict(X_test), y_test)"
   ]
  },
  {
   "cell_type": "code",
   "execution_count": 17,
   "metadata": {},
   "outputs": [
    {
     "data": {
      "text/plain": [
       "array([0.07731017, 0.07637092, 0.07676253, ..., 0.07665251, 0.07790401,\n",
       "       0.07666189])"
      ]
     },
     "execution_count": 17,
     "metadata": {},
     "output_type": "execute_result"
    }
   ],
   "source": [
    "#搭建回归树\n",
    "TREE=DecisionTreeRegressor()\n",
    "TREE.fit(X_train, y_train)\n",
    "TREE.predict(X_test)"
   ]
  },
  {
   "cell_type": "code",
   "execution_count": 18,
   "metadata": {},
   "outputs": [
    {
     "data": {
      "text/plain": [
       "0.0010154397884606643"
      ]
     },
     "execution_count": 18,
     "metadata": {},
     "output_type": "execute_result"
    }
   ],
   "source": [
    "compute_rmse(TREE.predict(X_test), y_test)"
   ]
  },
  {
   "cell_type": "code",
   "execution_count": 19,
   "metadata": {},
   "outputs": [
    {
     "data": {
      "text/plain": [
       "0.0008126386003386375"
      ]
     },
     "execution_count": 19,
     "metadata": {},
     "output_type": "execute_result"
    }
   ],
   "source": [
    "compute_mae(TREE.predict(X_test), y_test)"
   ]
  },
  {
   "cell_type": "code",
   "execution_count": 20,
   "metadata": {},
   "outputs": [
    {
     "data": {
      "text/plain": [
       "-0.27292805613662807"
      ]
     },
     "execution_count": 20,
     "metadata": {},
     "output_type": "execute_result"
    }
   ],
   "source": [
    "compute_R_Squared(TREE.predict(X_test), y_test)"
   ]
  },
  {
   "cell_type": "code",
   "execution_count": 21,
   "metadata": {},
   "outputs": [],
   "source": [
    "#搭建NN模型\n",
    "#自定义标准rmse mae r_square\n",
    "def rmse(y_true, y_pred):\n",
    "    return K.mean((y_true - y_pred) ** 2) ** 0.5\n",
    "\n",
    "def mae(y_true, y_pred):\n",
    "    return K.mean(K.abs(y_pred - y_true), axis=-1)\n",
    "\n",
    "def r_square(y_true, y_pred):\n",
    "    SSR = K.mean(K.square(y_pred-K.mean(y_true)),axis=-1)\n",
    "    SST = K.mean(K.square(y_true-K.mean(y_true)),axis=-1)\n",
    "    return SSR/SST"
   ]
  },
  {
   "cell_type": "code",
   "execution_count": 38,
   "metadata": {},
   "outputs": [
    {
     "name": "stdout",
     "output_type": "stream",
     "text": [
      "Train on 8000 samples, validate on 2000 samples\n",
      "Epoch 1/150\n",
      "8000/8000 [==============================] - 1s 70us/step - loss: 5164421962.7266 - rmse: 10991.9462 - mae: 10947.1519 - r_square: 7173495285662731264.0000 - val_loss: 2084.4906 - val_rmse: 45.6562 - val_mae: 45.6562 - val_r_square: 27623969603584.0000\n",
      "Epoch 2/150\n",
      "8000/8000 [==============================] - 0s 9us/step - loss: 2059.0653 - rmse: 45.3766 - mae: 45.3766 - r_square: 24978369209446.3984 - val_loss: 2028.3188 - val_rmse: 45.0369 - val_mae: 45.0369 - val_r_square: 26879570719539.1992\n",
      "Epoch 3/150\n",
      "8000/8000 [==============================] - 0s 9us/step - loss: 1992.8151 - rmse: 44.6403 - mae: 44.6403 - r_square: 504269844288307.1875 - val_loss: 1954.1104 - val_rmse: 44.2053 - val_mae: 44.2053 - val_r_square: 25896158951833.6016\n",
      "Epoch 4/150\n",
      "8000/8000 [==============================] - 0s 9us/step - loss: 1912.4648 - rmse: 43.7308 - mae: 43.7308 - r_square: 34692073658675.1992 - val_loss: 1868.0320 - val_rmse: 43.2207 - val_mae: 43.2207 - val_r_square: 24755440098508.8008\n",
      "Epoch 5/150\n",
      "8000/8000 [==============================] - 0s 10us/step - loss: 1821.7561 - rmse: 42.6808 - mae: 42.6808 - r_square: 456345506291712.0000 - val_loss: 1773.0198 - val_rmse: 42.1072 - val_mae: 42.1072 - val_r_square: 23496321602355.1992\n",
      "Epoch 6/150\n",
      "8000/8000 [==============================] - 0s 10us/step - loss: 1723.3407 - rmse: 41.5116 - mae: 41.5116 - r_square: 543685916914995.1875 - val_loss: 1671.4888 - val_rmse: 40.8838 - val_mae: 40.8838 - val_r_square: 22150818998272.0000\n",
      "Epoch 7/150\n",
      "8000/8000 [==============================] - 0s 10us/step - loss: 1619.4341 - rmse: 40.2404 - mae: 40.2404 - r_square: 407294226864460.8125 - val_loss: 1565.4690 - val_rmse: 39.5660 - val_mae: 39.5660 - val_r_square: 20745835008000.0000\n",
      "Epoch 8/150\n",
      "8000/8000 [==============================] - 0s 10us/step - loss: 1511.9496 - rmse: 38.8817 - mae: 38.8817 - r_square: 36488232539750.3984 - val_loss: 1456.7643 - val_rmse: 38.1676 - val_mae: 38.1676 - val_r_square: 19305261705216.0000\n",
      "Epoch 9/150\n",
      "8000/8000 [==============================] - 0s 9us/step - loss: 1402.5828 - rmse: 37.4487 - mae: 37.4487 - r_square: 37100780806144.0000 - val_loss: 1346.9826 - val_rmse: 36.7013 - val_mae: 36.7013 - val_r_square: 17850420867072.0000\n",
      "Epoch 10/150\n",
      "8000/8000 [==============================] - 0s 10us/step - loss: 1292.8620 - rmse: 35.9537 - mae: 35.9537 - r_square: 7438084134835.2002 - val_loss: 1237.5459 - val_rmse: 35.1788 - val_mae: 35.1788 - val_r_square: 16400149477785.5996\n",
      "Epoch 11/150\n",
      "8000/8000 [==============================] - 0s 10us/step - loss: 1184.1215 - rmse: 34.4081 - mae: 34.4081 - r_square: 9486371029580.8008 - val_loss: 1129.7200 - val_rmse: 33.6113 - val_mae: 33.6113 - val_r_square: 14971227550105.5996\n",
      "Epoch 12/150\n",
      "8000/8000 [==============================] - 0s 10us/step - loss: 1077.5581 - rmse: 32.8229 - mae: 32.8229 - r_square: 2802596826086.3999 - val_loss: 1024.6243 - val_rmse: 32.0098 - val_mae: 32.0098 - val_r_square: 13578479680716.8008\n",
      "Epoch 13/150\n",
      "8000/8000 [==============================] - 0s 9us/step - loss: 974.2053 - rmse: 31.2087 - mae: 31.2087 - r_square: 38657851958899.2031 - val_loss: 923.2084 - val_rmse: 30.3843 - val_mae: 30.3843 - val_r_square: 12234507265228.8008\n",
      "Epoch 14/150\n",
      "8000/8000 [==============================] - 0s 11us/step - loss: 874.9454 - rmse: 29.5757 - mae: 29.5757 - r_square: 67062815910400.0000 - val_loss: 826.2808 - val_rmse: 28.7451 - val_mae: 28.7451 - val_r_square: 10950009180364.8008\n",
      "Epoch 15/150\n",
      "8000/8000 [==============================] - 0s 10us/step - loss: 780.5090 - rmse: 27.9336 - mae: 27.9336 - r_square: 75681563512128.0000 - val_loss: 734.4967 - val_rmse: 27.1016 - val_mae: 27.1016 - val_r_square: 9733671370752.0000\n",
      "Epoch 16/150\n",
      "8000/8000 [==============================] - 0s 11us/step - loss: 691.4763 - rmse: 26.2917 - mae: 26.2917 - r_square: 68069330375833.6016 - val_loss: 648.3585 - val_rmse: 25.4629 - val_mae: 25.4629 - val_r_square: 8592154246348.7998\n",
      "Epoch 17/150\n",
      "8000/8000 [==============================] - 0s 10us/step - loss: 608.2834 - rmse: 24.6589 - mae: 24.6589 - r_square: 6184581614982.4004 - val_loss: 568.2362 - val_rmse: 23.8377 - val_mae: 23.8377 - val_r_square: 7530364549120.0000\n",
      "Epoch 18/150\n",
      "8000/8000 [==============================] - 0s 10us/step - loss: 531.2343 - rmse: 23.0439 - mae: 23.0439 - r_square: 5226985875513.5996 - val_loss: 494.3662 - val_rmse: 22.2343 - val_mae: 22.2343 - val_r_square: 6551426997248.0000\n",
      "Epoch 19/150\n",
      "8000/8000 [==============================] - 0s 10us/step - loss: 460.5029 - rmse: 21.4545 - mae: 21.4545 - r_square: 119250759615462.4062 - val_loss: 426.8610 - val_rmse: 20.6606 - val_mae: 20.6606 - val_r_square: 5656839541964.7998\n",
      "Epoch 20/150\n",
      "8000/8000 [==============================] - 0s 10us/step - loss: 396.1417 - rmse: 19.8984 - mae: 19.8984 - r_square: 4510906634604.7998 - val_loss: 365.7137 - val_rmse: 19.1236 - val_mae: 19.1236 - val_r_square: 4846505917030.4004\n",
      "Epoch 21/150\n",
      "8000/8000 [==============================] - 0s 11us/step - loss: 338.0954 - rmse: 18.3823 - mae: 18.3823 - r_square: 1104568779270.3999 - val_loss: 310.8215 - val_rmse: 17.6301 - val_mae: 17.6301 - val_r_square: 4119066125312.0000\n",
      "Epoch 22/150\n",
      "8000/8000 [==============================] - 0s 10us/step - loss: 286.2153 - rmse: 16.9128 - mae: 16.9128 - r_square: 7585053064243.2002 - val_loss: 261.9899 - val_rmse: 16.1861 - val_mae: 16.1861 - val_r_square: 3471941983744.0000\n",
      "Epoch 23/150\n",
      "8000/8000 [==============================] - 0s 11us/step - loss: 240.2680 - rmse: 15.4954 - mae: 15.4954 - r_square: 470255060416.0000 - val_loss: 218.9489 - val_rmse: 14.7969 - val_mae: 14.7969 - val_r_square: 2901555435929.6001\n",
      "Epoch 24/150\n",
      "8000/8000 [==============================] - 0s 10us/step - loss: 199.9527 - rmse: 14.1353 - mae: 14.1353 - r_square: 1160483337814.3999 - val_loss: 181.3681 - val_rmse: 13.4673 - val_mae: 13.4673 - val_r_square: 2403529182156.7998\n",
      "Epoch 25/150\n",
      "8000/8000 [==============================] - 0s 11us/step - loss: 164.9146 - rmse: 12.8367 - mae: 12.8367 - r_square: 39402868883926.3984 - val_loss: 148.8699 - val_rmse: 12.2012 - val_mae: 12.2012 - val_r_square: 1972857065779.2000\n",
      "Epoch 26/150\n",
      "8000/8000 [==============================] - 0s 10us/step - loss: 134.7585 - rmse: 11.6034 - mae: 11.6034 - r_square: 12356907702560.0000 - val_loss: 121.0435 - val_rmse: 11.0020 - val_mae: 11.0020 - val_r_square: 1604096130304.0000\n",
      "Epoch 27/150\n",
      "8000/8000 [==============================] - 0s 10us/step - loss: 109.0624 - rmse: 10.4382 - mae: 10.4382 - r_square: 563216064185.6000 - val_loss: 97.4578 - val_rmse: 9.8721 - val_mae: 9.8721 - val_r_square: 1291534786355.2000\n",
      "Epoch 28/150\n",
      "8000/8000 [==============================] - 0s 10us/step - loss: 87.3906 - rmse: 9.3433 - mae: 9.3433 - r_square: 1352144281371.2000 - val_loss: 77.6741 - val_rmse: 8.8133 - val_mae: 8.8133 - val_r_square: 1029357847424.0000\n",
      "Epoch 29/150\n",
      "8000/8000 [==============================] - 0s 10us/step - loss: 69.3052 - rmse: 8.3201 - mae: 8.3201 - r_square: 317664367045510.3750 - val_loss: 61.2574 - val_rmse: 7.8267 - val_mae: 7.8267 - val_r_square: 811799547212.8000\n",
      "Epoch 30/150\n",
      "8000/8000 [==============================] - 0s 10us/step - loss: 54.3768 - rmse: 7.3693 - mae: 7.3693 - r_square: 1751258311516.0000 - val_loss: 47.7850 - val_rmse: 6.9127 - val_mae: 6.9127 - val_r_square: 633260972057.6000\n",
      "Epoch 31/150\n",
      "8000/8000 [==============================] - 0s 10us/step - loss: 42.1921 - rmse: 6.4910 - mae: 6.4910 - r_square: 5166190247734.4004 - val_loss: 36.8549 - val_rmse: 6.0708 - val_mae: 6.0708 - val_r_square: 488412823897.6000\n",
      "Epoch 32/150\n",
      "8000/8000 [==============================] - 0s 10us/step - loss: 32.3621 - rmse: 5.6844 - mae: 5.6844 - r_square: 188148608613.2000 - val_loss: 28.0918 - val_rmse: 5.3002 - val_mae: 5.3002 - val_r_square: 372282171571.2000\n",
      "Epoch 33/150\n",
      "8000/8000 [==============================] - 0s 10us/step - loss: 24.5264 - rmse: 4.9483 - mae: 4.9483 - r_square: 157338131956.4000 - val_loss: 21.1518 - val_rmse: 4.5991 - val_mae: 4.5991 - val_r_square: 280311882137.6000\n",
      "Epoch 34/150\n"
     ]
    },
    {
     "name": "stdout",
     "output_type": "stream",
     "text": [
      "8000/8000 [==============================] - 0s 10us/step - loss: 18.3580 - rmse: 4.2807 - mae: 4.2807 - r_square: 2595260634332.7998 - val_loss: 15.7250 - val_rmse: 3.9655 - val_mae: 3.9655 - val_r_square: 208394902713.6000\n",
      "Epoch 35/150\n",
      "8000/8000 [==============================] - 0s 10us/step - loss: 13.5643 - rmse: 3.6793 - mae: 3.6793 - r_square: 666144267468.4000 - val_loss: 11.5370 - val_rmse: 3.3966 - val_mae: 3.3966 - val_r_square: 152894099760.0000\n",
      "Epoch 36/150\n",
      "8000/8000 [==============================] - 0s 9us/step - loss: 9.8884 - rmse: 3.1412 - mae: 3.1412 - r_square: 362713297217.4000 - val_loss: 8.3488 - val_rmse: 2.8894 - val_mae: 2.8894 - val_r_square: 110643092956.8000\n",
      "Epoch 37/150\n",
      "8000/8000 [==============================] - 0s 9us/step - loss: 7.1086 - rmse: 2.6630 - mae: 2.6630 - r_square: 1586127559420.5000 - val_loss: 5.9559 - val_rmse: 2.4405 - val_mae: 2.4405 - val_r_square: 78931409392.0000\n",
      "Epoch 38/150\n",
      "8000/8000 [==============================] - 0s 10us/step - loss: 5.0364 - rmse: 2.2413 - mae: 2.2413 - r_square: 55662913144.1000 - val_loss: 4.1861 - val_rmse: 2.0460 - val_mae: 2.0460 - val_r_square: 55477298332.8000\n",
      "Epoch 39/150\n",
      "8000/8000 [==============================] - 0s 10us/step - loss: 3.5147 - rmse: 1.8721 - mae: 1.8721 - r_square: 28208561943.4000 - val_loss: 2.8970 - val_rmse: 1.7021 - val_mae: 1.7021 - val_r_square: 38393752594.4000\n",
      "Epoch 40/150\n",
      "8000/8000 [==============================] - 0s 10us/step - loss: 2.4144 - rmse: 1.5515 - mae: 1.5515 - r_square: 47998135543.1000 - val_loss: 1.9729 - val_rmse: 1.4046 - val_mae: 1.4046 - val_r_square: 26146271198.4000\n",
      "Epoch 41/150\n",
      "8000/8000 [==============================] - 0s 10us/step - loss: 1.6316 - rmse: 1.2752 - mae: 1.2752 - r_square: 68187212929.8500 - val_loss: 1.3212 - val_rmse: 1.1494 - val_mae: 1.1494 - val_r_square: 17509642294.8000\n",
      "Epoch 42/150\n",
      "8000/8000 [==============================] - 0s 9us/step - loss: 1.0840 - rmse: 1.0392 - mae: 1.0392 - r_square: 5196604488.8750 - val_loss: 0.8694 - val_rmse: 0.9324 - val_mae: 0.9324 - val_r_square: 11522879982.4000\n",
      "Epoch 43/150\n",
      "8000/8000 [==============================] - 0s 9us/step - loss: 0.7074 - rmse: 0.8394 - mae: 0.8394 - r_square: 50364495262.3375 - val_loss: 0.5618 - val_rmse: 0.7496 - val_mae: 0.7496 - val_r_square: 7446462905.0000\n",
      "Epoch 44/150\n",
      "8000/8000 [==============================] - 0s 9us/step - loss: 0.4532 - rmse: 0.6718 - mae: 0.6718 - r_square: 2508576754.9625 - val_loss: 0.3562 - val_rmse: 0.5969 - val_mae: 0.5969 - val_r_square: 4721815896.1000\n",
      "Epoch 45/150\n",
      "8000/8000 [==============================] - 0s 9us/step - loss: 0.2848 - rmse: 0.5325 - mae: 0.5324 - r_square: 2610349919.1000 - val_loss: 0.2215 - val_rmse: 0.4706 - val_mae: 0.4706 - val_r_square: 2935635545.1000\n",
      "Epoch 46/150\n",
      "8000/8000 [==============================] - 0s 9us/step - loss: 0.1754 - rmse: 0.4178 - mae: 0.4178 - r_square: 13722032396.8734 - val_loss: 0.1349 - val_rmse: 0.3673 - val_mae: 0.3673 - val_r_square: 1787976650.3500\n",
      "Epoch 47/150\n",
      "8000/8000 [==============================] - 0s 9us/step - loss: 0.1058 - rmse: 0.3244 - mae: 0.3244 - r_square: 964584103.2750 - val_loss: 0.0804 - val_rmse: 0.2836 - val_mae: 0.2836 - val_r_square: 1065902451.7250\n",
      "Epoch 48/150\n",
      "8000/8000 [==============================] - 0s 9us/step - loss: 0.0625 - rmse: 0.2492 - mae: 0.2491 - r_square: 11406139732.5969 - val_loss: 0.0469 - val_rmse: 0.2165 - val_mae: 0.2165 - val_r_square: 621406906.8500\n",
      "Epoch 49/150\n",
      "8000/8000 [==============================] - 0s 9us/step - loss: 0.0360 - rmse: 0.1892 - mae: 0.1892 - r_square: 1242320029.9336 - val_loss: 0.0267 - val_rmse: 0.1634 - val_mae: 0.1634 - val_r_square: 353934341.3500\n",
      "Epoch 50/150\n",
      "8000/8000 [==============================] - 0s 9us/step - loss: 0.0203 - rmse: 0.1420 - mae: 0.1420 - r_square: 10333798591.6453 - val_loss: 0.0148 - val_rmse: 0.1218 - val_mae: 0.1218 - val_r_square: 196763777.1937\n",
      "Epoch 51/150\n",
      "8000/8000 [==============================] - 0s 9us/step - loss: 0.0112 - rmse: 0.1052 - mae: 0.1052 - r_square: 42386391.4672 - val_loss: 0.0080 - val_rmse: 0.0897 - val_mae: 0.0897 - val_r_square: 106655451.6875\n",
      "Epoch 52/150\n",
      "8000/8000 [==============================] - 0s 9us/step - loss: 0.0060 - rmse: 0.0770 - mae: 0.0770 - r_square: 27035988.6044 - val_loss: 0.0042 - val_rmse: 0.0651 - val_mae: 0.0651 - val_r_square: 56314149.5797\n",
      "Epoch 53/150\n",
      "8000/8000 [==============================] - 0s 9us/step - loss: 0.0031 - rmse: 0.0556 - mae: 0.0555 - r_square: 52352930.0626 - val_loss: 0.0022 - val_rmse: 0.0467 - val_mae: 0.0467 - val_r_square: 28930019.6883\n",
      "Epoch 54/150\n",
      "8000/8000 [==============================] - 0s 9us/step - loss: 0.0016 - rmse: 0.0395 - mae: 0.0395 - r_square: 19567663.1891 - val_loss: 0.0011 - val_rmse: 0.0330 - val_mae: 0.0330 - val_r_square: 14446276.5266\n",
      "Epoch 55/150\n",
      "8000/8000 [==============================] - 0s 10us/step - loss: 7.7776e-04 - rmse: 0.0277 - mae: 0.0277 - r_square: 449367529.4875 - val_loss: 5.2698e-04 - val_rmse: 0.0230 - val_mae: 0.0229 - val_r_square: 7002528.6357\n",
      "Epoch 56/150\n",
      "8000/8000 [==============================] - 0s 9us/step - loss: 3.7171e-04 - rmse: 0.0192 - mae: 0.0191 - r_square: 1364084.8751 - val_loss: 2.4774e-04 - val_rmse: 0.0157 - val_mae: 0.0157 - val_r_square: 3292792.2362\n",
      "Epoch 57/150\n",
      "8000/8000 [==============================] - 0s 9us/step - loss: 1.7229e-04 - rmse: 0.0130 - mae: 0.0130 - r_square: inf - val_loss: 1.1303e-04 - val_rmse: 0.0106 - val_mae: 0.0106 - val_r_square: 1501065.9573\n",
      "Epoch 58/150\n",
      "8000/8000 [==============================] - 0s 9us/step - loss: 7.7497e-05 - rmse: 0.0087 - mae: 0.0087 - r_square: 3228857.9859 - val_loss: 5.0125e-05 - val_rmse: 0.0071 - val_mae: 0.0070 - val_r_square: 662845.4540\n",
      "Epoch 59/150\n",
      "8000/8000 [==============================] - 0s 9us/step - loss: 3.3941e-05 - rmse: 0.0058 - mae: 0.0057 - r_square: 99516.2001 - val_loss: 2.1732e-05 - val_rmse: 0.0047 - val_mae: 0.0046 - val_r_square: 283447.4753\n",
      "Epoch 60/150\n",
      "8000/8000 [==============================] - 0s 9us/step - loss: 1.4618e-05 - rmse: 0.0038 - mae: 0.0037 - r_square: 49401932.7522 - val_loss: 9.3805e-06 - val_rmse: 0.0031 - val_mae: 0.0029 - val_r_square: 117666.4739\n",
      "Epoch 61/150\n",
      "8000/8000 [==============================] - 0s 9us/step - loss: 6.3655e-06 - rmse: 0.0025 - mae: 0.0023 - r_square: 2698464.6561 - val_loss: 4.1788e-06 - val_rmse: 0.0020 - val_mae: 0.0019 - val_r_square: 47339.3707\n",
      "Epoch 62/150\n",
      "8000/8000 [==============================] - 0s 9us/step - loss: 2.9716e-06 - rmse: 0.0017 - mae: 0.0015 - r_square: 37174.1744 - val_loss: 2.0884e-06 - val_rmse: 0.0014 - val_mae: 0.0012 - val_r_square: 18741.3137\n",
      "Epoch 63/150\n",
      "8000/8000 [==============================] - 0s 9us/step - loss: 1.6321e-06 - rmse: 0.0013 - mae: 0.0011 - r_square: 20930.1299 - val_loss: 1.2734e-06 - val_rmse: 0.0011 - val_mae: 9.2123e-04 - val_r_square: 7372.2059\n",
      "Epoch 64/150\n",
      "8000/8000 [==============================] - 0s 9us/step - loss: 1.1254e-06 - rmse: 0.0011 - mae: 8.5546e-04 - r_square: 1526.4973 - val_loss: 9.6545e-07 - val_rmse: 9.7967e-04 - val_mae: 7.9330e-04 - val_r_square: 2938.3593\n",
      "Epoch 65/150\n",
      "8000/8000 [==============================] - 0s 9us/step - loss: 9.4149e-07 - rmse: 9.6813e-04 - mae: 7.7882e-04 - r_square: 13756.0344 - val_loss: 8.5349e-07 - val_rmse: 9.2093e-04 - val_mae: 7.4212e-04 - val_r_square: 1241.2194\n",
      "Epoch 66/150\n",
      "8000/8000 [==============================] - 0s 9us/step - loss: 8.7790e-07 - rmse: 9.3546e-04 - mae: 7.5042e-04 - r_square: 110.0407 - val_loss: 8.1296e-07 - val_rmse: 8.9868e-04 - val_mae: 7.2232e-04 - val_r_square: 575.7077\n",
      "Epoch 67/150\n",
      "8000/8000 [==============================] - 0s 9us/step - loss: 8.5708e-07 - rmse: 9.2317e-04 - mae: 7.4055e-04 - r_square: 2123.8361 - val_loss: 7.9916e-07 - val_rmse: 8.9095e-04 - val_mae: 7.1530e-04 - val_r_square: 321.4710\n",
      "Epoch 68/150\n",
      "8000/8000 [==============================] - 0s 9us/step - loss: 8.5048e-07 - rmse: 9.1936e-04 - mae: 7.3745e-04 - r_square: 77.8366 - val_loss: 7.9411e-07 - val_rmse: 8.8809e-04 - val_mae: 7.1249e-04 - val_r_square: 214.1613\n",
      "Epoch 69/150\n"
     ]
    },
    {
     "name": "stdout",
     "output_type": "stream",
     "text": [
      "8000/8000 [==============================] - 0s 9us/step - loss: 8.4843e-07 - rmse: 9.1921e-04 - mae: 7.3644e-04 - r_square: 139.3116 - val_loss: 7.9217e-07 - val_rmse: 8.8698e-04 - val_mae: 7.1133e-04 - val_r_square: 165.8706\n",
      "Epoch 70/150\n",
      "8000/8000 [==============================] - 0s 9us/step - loss: 8.4781e-07 - rmse: 9.1875e-04 - mae: 7.3609e-04 - r_square: 1275.4006 - val_loss: 7.9134e-07 - val_rmse: 8.8651e-04 - val_mae: 7.1076e-04 - val_r_square: 142.0531\n",
      "Epoch 71/150\n",
      "8000/8000 [==============================] - 0s 9us/step - loss: 8.4768e-07 - rmse: 9.1804e-04 - mae: 7.3602e-04 - r_square: 457.2648 - val_loss: 7.9100e-07 - val_rmse: 8.8631e-04 - val_mae: 7.1049e-04 - val_r_square: 131.0058\n",
      "Epoch 72/150\n",
      "8000/8000 [==============================] - 0s 9us/step - loss: 8.4762e-07 - rmse: 9.1888e-04 - mae: 7.3597e-04 - r_square: 201.3269 - val_loss: 7.9087e-07 - val_rmse: 8.8623e-04 - val_mae: 7.1038e-04 - val_r_square: 126.5685\n",
      "Epoch 73/150\n",
      "8000/8000 [==============================] - 0s 9us/step - loss: 8.4761e-07 - rmse: 9.1808e-04 - mae: 7.3597e-04 - r_square: 6333.6952 - val_loss: 7.9078e-07 - val_rmse: 8.8618e-04 - val_mae: 7.1030e-04 - val_r_square: 123.2640\n",
      "Epoch 74/150\n",
      "8000/8000 [==============================] - 0s 9us/step - loss: 8.4763e-07 - rmse: 9.1846e-04 - mae: 7.3599e-04 - r_square: 38061.7796 - val_loss: 7.9071e-07 - val_rmse: 8.8614e-04 - val_mae: 7.1024e-04 - val_r_square: 120.8797\n",
      "Epoch 75/150\n",
      "8000/8000 [==============================] - 0s 9us/step - loss: 8.4766e-07 - rmse: 9.1886e-04 - mae: 7.3598e-04 - r_square: 22.8238 - val_loss: 7.9065e-07 - val_rmse: 8.8610e-04 - val_mae: 7.1018e-04 - val_r_square: 118.3602\n",
      "Epoch 76/150\n",
      "8000/8000 [==============================] - 0s 9us/step - loss: 8.4761e-07 - rmse: 9.1852e-04 - mae: 7.3595e-04 - r_square: 5456.7364 - val_loss: 7.9085e-07 - val_rmse: 8.8622e-04 - val_mae: 7.1036e-04 - val_r_square: 125.7623\n",
      "Epoch 77/150\n",
      "8000/8000 [==============================] - 0s 9us/step - loss: 8.4775e-07 - rmse: 9.1861e-04 - mae: 7.3600e-04 - r_square: 621.7668 - val_loss: 7.9090e-07 - val_rmse: 8.8625e-04 - val_mae: 7.1040e-04 - val_r_square: 127.4708\n",
      "Epoch 78/150\n",
      "8000/8000 [==============================] - 0s 9us/step - loss: 8.4765e-07 - rmse: 9.1824e-04 - mae: 7.3597e-04 - r_square: inf - val_loss: 7.9076e-07 - val_rmse: 8.8617e-04 - val_mae: 7.1028e-04 - val_r_square: 122.4898\n",
      "Epoch 79/150\n",
      "8000/8000 [==============================] - 0s 10us/step - loss: 8.4766e-07 - rmse: 9.1851e-04 - mae: 7.3600e-04 - r_square: 977.9992 - val_loss: 7.9081e-07 - val_rmse: 8.8620e-04 - val_mae: 7.1033e-04 - val_r_square: 124.5683\n",
      "Epoch 80/150\n",
      "8000/8000 [==============================] - 0s 9us/step - loss: 8.4762e-07 - rmse: 9.1859e-04 - mae: 7.3595e-04 - r_square: 67.4641 - val_loss: 7.9086e-07 - val_rmse: 8.8623e-04 - val_mae: 7.1037e-04 - val_r_square: 126.2638\n",
      "Epoch 81/150\n",
      "8000/8000 [==============================] - 0s 10us/step - loss: 8.4767e-07 - rmse: 9.1840e-04 - mae: 7.3600e-04 - r_square: 21.5612 - val_loss: 7.9078e-07 - val_rmse: 8.8618e-04 - val_mae: 7.1030e-04 - val_r_square: 123.3835\n",
      "Epoch 82/150\n",
      "8000/8000 [==============================] - 0s 9us/step - loss: 8.4760e-07 - rmse: 9.1872e-04 - mae: 7.3597e-04 - r_square: 33.3697 - val_loss: 7.9073e-07 - val_rmse: 8.8615e-04 - val_mae: 7.1026e-04 - val_r_square: 121.6161\n",
      "Epoch 83/150\n",
      "8000/8000 [==============================] - 0s 9us/step - loss: 8.4764e-07 - rmse: 9.1836e-04 - mae: 7.3597e-04 - r_square: 64.9579 - val_loss: 7.9080e-07 - val_rmse: 8.8619e-04 - val_mae: 7.1032e-04 - val_r_square: 124.1774\n",
      "Epoch 84/150\n",
      "8000/8000 [==============================] - 0s 9us/step - loss: 8.4773e-07 - rmse: 9.1926e-04 - mae: 7.3599e-04 - r_square: 1193.4330 - val_loss: 7.9085e-07 - val_rmse: 8.8622e-04 - val_mae: 7.1036e-04 - val_r_square: 125.8230\n",
      "Epoch 85/150\n",
      "8000/8000 [==============================] - 0s 9us/step - loss: 8.4766e-07 - rmse: 9.1844e-04 - mae: 7.3598e-04 - r_square: 9.6550 - val_loss: 7.9089e-07 - val_rmse: 8.8624e-04 - val_mae: 7.1039e-04 - val_r_square: 127.1950\n",
      "Epoch 86/150\n",
      "8000/8000 [==============================] - 0s 9us/step - loss: 8.4764e-07 - rmse: 9.1880e-04 - mae: 7.3597e-04 - r_square: 203.9260 - val_loss: 7.9080e-07 - val_rmse: 8.8619e-04 - val_mae: 7.1032e-04 - val_r_square: 124.1023\n",
      "Epoch 87/150\n",
      "8000/8000 [==============================] - 0s 9us/step - loss: 8.4764e-07 - rmse: 9.1925e-04 - mae: 7.3597e-04 - r_square: 25.2067 - val_loss: 7.9065e-07 - val_rmse: 8.8610e-04 - val_mae: 7.1018e-04 - val_r_square: 118.5625\n",
      "Epoch 88/150\n",
      "8000/8000 [==============================] - 0s 10us/step - loss: 8.4762e-07 - rmse: 9.1901e-04 - mae: 7.3597e-04 - r_square: 87.2808 - val_loss: 7.9080e-07 - val_rmse: 8.8619e-04 - val_mae: 7.1032e-04 - val_r_square: 124.0273\n",
      "Epoch 89/150\n",
      "8000/8000 [==============================] - 0s 9us/step - loss: 8.4766e-07 - rmse: 9.1799e-04 - mae: 7.3597e-04 - r_square: 254.7209 - val_loss: 7.9067e-07 - val_rmse: 8.8611e-04 - val_mae: 7.1020e-04 - val_r_square: 119.2000\n",
      "Epoch 90/150\n",
      "8000/8000 [==============================] - 0s 10us/step - loss: 8.4773e-07 - rmse: 9.1854e-04 - mae: 7.3609e-04 - r_square: 25.9134 - val_loss: 7.9079e-07 - val_rmse: 8.8618e-04 - val_mae: 7.1030e-04 - val_r_square: 123.5479\n",
      "Epoch 91/150\n",
      "8000/8000 [==============================] - 0s 10us/step - loss: 8.4771e-07 - rmse: 9.1682e-04 - mae: 7.3601e-04 - r_square: inf - val_loss: 7.9096e-07 - val_rmse: 8.8628e-04 - val_mae: 7.1046e-04 - val_r_square: 129.7101\n",
      "Epoch 92/150\n",
      "8000/8000 [==============================] - 0s 9us/step - loss: 8.4773e-07 - rmse: 9.1804e-04 - mae: 7.3606e-04 - r_square: 91.1487 - val_loss: 7.9085e-07 - val_rmse: 8.8622e-04 - val_mae: 7.1036e-04 - val_r_square: 126.0205\n",
      "Epoch 93/150\n",
      "8000/8000 [==============================] - 0s 9us/step - loss: 8.4768e-07 - rmse: 9.1821e-04 - mae: 7.3599e-04 - r_square: inf - val_loss: 7.9077e-07 - val_rmse: 8.8617e-04 - val_mae: 7.1029e-04 - val_r_square: 122.8466\n",
      "Epoch 94/150\n",
      "8000/8000 [==============================] - 0s 9us/step - loss: 8.4765e-07 - rmse: 9.1810e-04 - mae: 7.3598e-04 - r_square: 890.8905 - val_loss: 7.9087e-07 - val_rmse: 8.8623e-04 - val_mae: 7.1038e-04 - val_r_square: 126.4770\n",
      "Epoch 95/150\n",
      "8000/8000 [==============================] - 0s 10us/step - loss: 8.4780e-07 - rmse: 9.1849e-04 - mae: 7.3605e-04 - r_square: 49.7103 - val_loss: 7.9060e-07 - val_rmse: 8.8607e-04 - val_mae: 7.1013e-04 - val_r_square: 116.5387\n",
      "Epoch 96/150\n",
      "8000/8000 [==============================] - 0s 10us/step - loss: 8.4799e-07 - rmse: 9.1914e-04 - mae: 7.3605e-04 - r_square: 1103.2599 - val_loss: 7.9104e-07 - val_rmse: 8.8633e-04 - val_mae: 7.1053e-04 - val_r_square: 132.5013\n",
      "Epoch 97/150\n",
      "8000/8000 [==============================] - 0s 9us/step - loss: 8.4781e-07 - rmse: 9.1769e-04 - mae: 7.3604e-04 - r_square: 60.0329 - val_loss: 7.9115e-07 - val_rmse: 8.8640e-04 - val_mae: 7.1062e-04 - val_r_square: 136.1447\n",
      "Epoch 98/150\n",
      "8000/8000 [==============================] - 0s 10us/step - loss: 8.4766e-07 - rmse: 9.1843e-04 - mae: 7.3602e-04 - r_square: 132.5012 - val_loss: 7.9064e-07 - val_rmse: 8.8610e-04 - val_mae: 7.1017e-04 - val_r_square: 118.0430\n",
      "Epoch 99/150\n",
      "8000/8000 [==============================] - 0s 9us/step - loss: 8.4785e-07 - rmse: 9.1838e-04 - mae: 7.3611e-04 - r_square: 63.5456 - val_loss: 7.9049e-07 - val_rmse: 8.8601e-04 - val_mae: 7.1002e-04 - val_r_square: 112.0128\n",
      "Epoch 100/150\n",
      "8000/8000 [==============================] - 0s 10us/step - loss: 8.4767e-07 - rmse: 9.1818e-04 - mae: 7.3600e-04 - r_square: 374.8711 - val_loss: 7.9091e-07 - val_rmse: 8.8625e-04 - val_mae: 7.1041e-04 - val_r_square: 127.8086\n",
      "Epoch 101/150\n",
      "8000/8000 [==============================] - 0s 10us/step - loss: 8.4785e-07 - rmse: 9.1935e-04 - mae: 7.3610e-04 - r_square: 2544.8360 - val_loss: 7.9065e-07 - val_rmse: 8.8611e-04 - val_mae: 7.1018e-04 - val_r_square: 118.6058\n",
      "Epoch 102/150\n",
      "8000/8000 [==============================] - 0s 9us/step - loss: 8.4774e-07 - rmse: 9.1850e-04 - mae: 7.3596e-04 - r_square: 304.8612 - val_loss: 7.9095e-07 - val_rmse: 8.8628e-04 - val_mae: 7.1044e-04 - val_r_square: 129.2753\n",
      "Epoch 103/150\n"
     ]
    },
    {
     "name": "stdout",
     "output_type": "stream",
     "text": [
      "8000/8000 [==============================] - 0s 9us/step - loss: 8.4769e-07 - rmse: 9.1912e-04 - mae: 7.3599e-04 - r_square: 16.4379 - val_loss: 7.9038e-07 - val_rmse: 8.8594e-04 - val_mae: 7.0991e-04 - val_r_square: 107.0171\n",
      "Epoch 104/150\n",
      "8000/8000 [==============================] - 0s 9us/step - loss: 8.4777e-07 - rmse: 9.1879e-04 - mae: 7.3596e-04 - r_square: 47.0719 - val_loss: 7.9141e-07 - val_rmse: 8.8655e-04 - val_mae: 7.1081e-04 - val_r_square: 144.2336\n",
      "Epoch 105/150\n",
      "8000/8000 [==============================] - 0s 9us/step - loss: 8.4768e-07 - rmse: 9.1821e-04 - mae: 7.3607e-04 - r_square: 149.4508 - val_loss: 7.9058e-07 - val_rmse: 8.8606e-04 - val_mae: 7.1011e-04 - val_r_square: 115.5872\n",
      "Epoch 106/150\n",
      "8000/8000 [==============================] - 0s 9us/step - loss: 8.4786e-07 - rmse: 9.1857e-04 - mae: 7.3613e-04 - r_square: 32.2980 - val_loss: 7.9020e-07 - val_rmse: 8.8584e-04 - val_mae: 7.0971e-04 - val_r_square: 97.3994\n",
      "Epoch 107/150\n",
      "8000/8000 [==============================] - 0s 9us/step - loss: 8.4793e-07 - rmse: 9.1816e-04 - mae: 7.3600e-04 - r_square: 11016.0516 - val_loss: 7.9113e-07 - val_rmse: 8.8638e-04 - val_mae: 7.1059e-04 - val_r_square: 135.2267\n",
      "Epoch 108/150\n",
      "8000/8000 [==============================] - 0s 10us/step - loss: 8.4779e-07 - rmse: 9.1877e-04 - mae: 7.3603e-04 - r_square: 63.7982 - val_loss: 7.9089e-07 - val_rmse: 8.8624e-04 - val_mae: 7.1040e-04 - val_r_square: 127.3175\n",
      "Epoch 109/150\n",
      "8000/8000 [==============================] - 0s 10us/step - loss: 8.4775e-07 - rmse: 9.1857e-04 - mae: 7.3601e-04 - r_square: 20.2398 - val_loss: 7.9081e-07 - val_rmse: 8.8620e-04 - val_mae: 7.1033e-04 - val_r_square: 124.5232\n",
      "Epoch 110/150\n",
      "8000/8000 [==============================] - 0s 10us/step - loss: 8.4786e-07 - rmse: 9.1826e-04 - mae: 7.3608e-04 - r_square: 517.2241 - val_loss: 7.9034e-07 - val_rmse: 8.8592e-04 - val_mae: 7.0987e-04 - val_r_square: 105.2054\n",
      "Epoch 111/150\n",
      "8000/8000 [==============================] - 0s 10us/step - loss: 8.4804e-07 - rmse: 9.1845e-04 - mae: 7.3616e-04 - r_square: 64.8389 - val_loss: 7.9077e-07 - val_rmse: 8.8617e-04 - val_mae: 7.1029e-04 - val_r_square: 122.8615\n",
      "Epoch 112/150\n",
      "8000/8000 [==============================] - 0s 9us/step - loss: 8.4804e-07 - rmse: 9.1849e-04 - mae: 7.3607e-04 - r_square: inf - val_loss: 7.9059e-07 - val_rmse: 8.8607e-04 - val_mae: 7.1012e-04 - val_r_square: 116.0124\n",
      "Epoch 113/150\n",
      "8000/8000 [==============================] - 0s 10us/step - loss: 8.4772e-07 - rmse: 9.1862e-04 - mae: 7.3603e-04 - r_square: 303.6196 - val_loss: 7.9016e-07 - val_rmse: 8.8581e-04 - val_mae: 7.0967e-04 - val_r_square: 94.7229\n",
      "Epoch 114/150\n",
      "8000/8000 [==============================] - 0s 10us/step - loss: 8.4792e-07 - rmse: 9.1897e-04 - mae: 7.3607e-04 - r_square: 1032.4713 - val_loss: 7.9004e-07 - val_rmse: 8.8573e-04 - val_mae: 7.0945e-04 - val_r_square: 82.0237\n",
      "Epoch 115/150\n",
      "8000/8000 [==============================] - 0s 10us/step - loss: 8.4824e-07 - rmse: 9.1905e-04 - mae: 7.3632e-04 - r_square: 91.7026 - val_loss: 7.9008e-07 - val_rmse: 8.8576e-04 - val_mae: 7.0955e-04 - val_r_square: 88.2672\n",
      "Epoch 116/150\n",
      "8000/8000 [==============================] - 0s 10us/step - loss: 8.4786e-07 - rmse: 9.1868e-04 - mae: 7.3599e-04 - r_square: 107.8199 - val_loss: 7.9078e-07 - val_rmse: 8.8618e-04 - val_mae: 7.1030e-04 - val_r_square: 123.3686\n",
      "Epoch 117/150\n",
      "8000/8000 [==============================] - 0s 10us/step - loss: 8.4788e-07 - rmse: 9.1893e-04 - mae: 7.3610e-04 - r_square: 2243.2049 - val_loss: 7.9012e-07 - val_rmse: 8.8579e-04 - val_mae: 7.0962e-04 - val_r_square: 91.7774\n",
      "Epoch 118/150\n",
      "8000/8000 [==============================] - 0s 10us/step - loss: 8.4773e-07 - rmse: 9.1807e-04 - mae: 7.3612e-04 - r_square: 83.3357 - val_loss: 7.9149e-07 - val_rmse: 8.8659e-04 - val_mae: 7.1087e-04 - val_r_square: 146.6608\n",
      "Epoch 119/150\n",
      "8000/8000 [==============================] - 0s 9us/step - loss: 8.4786e-07 - rmse: 9.1863e-04 - mae: 7.3609e-04 - r_square: 1101.4459 - val_loss: 7.9036e-07 - val_rmse: 8.8593e-04 - val_mae: 7.0989e-04 - val_r_square: 106.1077\n",
      "Epoch 120/150\n",
      "8000/8000 [==============================] - 0s 9us/step - loss: 8.4792e-07 - rmse: 9.1891e-04 - mae: 7.3602e-04 - r_square: 96.0714 - val_loss: 7.9048e-07 - val_rmse: 8.8600e-04 - val_mae: 7.1001e-04 - val_r_square: 111.6140\n",
      "Epoch 121/150\n",
      "8000/8000 [==============================] - 0s 9us/step - loss: 8.4771e-07 - rmse: 9.1829e-04 - mae: 7.3589e-04 - r_square: 588.0537 - val_loss: 7.9197e-07 - val_rmse: 8.8687e-04 - val_mae: 7.1120e-04 - val_r_square: 160.3933\n",
      "Epoch 122/150\n",
      "8000/8000 [==============================] - 0s 10us/step - loss: 8.4813e-07 - rmse: 9.1833e-04 - mae: 7.3619e-04 - r_square: 12066.0743 - val_loss: 7.9194e-07 - val_rmse: 8.8685e-04 - val_mae: 7.1118e-04 - val_r_square: 159.5022\n",
      "Epoch 123/150\n",
      "8000/8000 [==============================] - 0s 9us/step - loss: 8.4796e-07 - rmse: 9.1888e-04 - mae: 7.3612e-04 - r_square: 111.0734 - val_loss: 7.9102e-07 - val_rmse: 8.8632e-04 - val_mae: 7.1050e-04 - val_r_square: 131.6181\n",
      "Epoch 124/150\n",
      "8000/8000 [==============================] - 0s 9us/step - loss: 8.4780e-07 - rmse: 9.1887e-04 - mae: 7.3617e-04 - r_square: 106.0913 - val_loss: 7.9014e-07 - val_rmse: 8.8580e-04 - val_mae: 7.0964e-04 - val_r_square: 93.2615\n",
      "Epoch 125/150\n",
      "8000/8000 [==============================] - 0s 9us/step - loss: 8.4775e-07 - rmse: 9.1872e-04 - mae: 7.3610e-04 - r_square: 19.4092 - val_loss: 7.9304e-07 - val_rmse: 8.8748e-04 - val_mae: 7.1187e-04 - val_r_square: 188.2826\n",
      "Epoch 126/150\n",
      "8000/8000 [==============================] - 0s 9us/step - loss: 8.4793e-07 - rmse: 9.1865e-04 - mae: 7.3608e-04 - r_square: inf - val_loss: 7.9055e-07 - val_rmse: 8.8604e-04 - val_mae: 7.1008e-04 - val_r_square: 114.4880\n",
      "Epoch 127/150\n",
      "8000/8000 [==============================] - 0s 9us/step - loss: 8.4843e-07 - rmse: 9.1944e-04 - mae: 7.3641e-04 - r_square: 4032.0429 - val_loss: 7.9157e-07 - val_rmse: 8.8664e-04 - val_mae: 7.1092e-04 - val_r_square: 148.9453\n",
      "Epoch 128/150\n",
      "8000/8000 [==============================] - 0s 9us/step - loss: 8.4805e-07 - rmse: 9.1867e-04 - mae: 7.3616e-04 - r_square: 28.5398 - val_loss: 7.9031e-07 - val_rmse: 8.8590e-04 - val_mae: 7.0984e-04 - val_r_square: 103.6784\n",
      "Epoch 129/150\n",
      "8000/8000 [==============================] - 0s 9us/step - loss: 8.4873e-07 - rmse: 9.1884e-04 - mae: 7.3622e-04 - r_square: 12.3111 - val_loss: 7.9008e-07 - val_rmse: 8.8576e-04 - val_mae: 7.0956e-04 - val_r_square: 88.5413\n",
      "Epoch 130/150\n",
      "8000/8000 [==============================] - 0s 10us/step - loss: 8.4795e-07 - rmse: 9.1889e-04 - mae: 7.3621e-04 - r_square: 31.7816 - val_loss: 7.9031e-07 - val_rmse: 8.8590e-04 - val_mae: 7.0983e-04 - val_r_square: 103.6142\n",
      "Epoch 131/150\n",
      "8000/8000 [==============================] - 0s 9us/step - loss: 8.4795e-07 - rmse: 9.1878e-04 - mae: 7.3609e-04 - r_square: 538.6363 - val_loss: 7.9029e-07 - val_rmse: 8.8589e-04 - val_mae: 7.0981e-04 - val_r_square: 102.5658\n",
      "Epoch 132/150\n",
      "8000/8000 [==============================] - 0s 9us/step - loss: 8.4761e-07 - rmse: 9.1846e-04 - mae: 7.3604e-04 - r_square: 40.6037 - val_loss: 7.9003e-07 - val_rmse: 8.8572e-04 - val_mae: 7.0940e-04 - val_r_square: 79.3960\n",
      "Epoch 133/150\n",
      "8000/8000 [==============================] - 0s 9us/step - loss: 8.4881e-07 - rmse: 9.1957e-04 - mae: 7.3641e-04 - r_square: 1013.7205 - val_loss: 7.9017e-07 - val_rmse: 8.8582e-04 - val_mae: 7.0968e-04 - val_r_square: 95.3377\n",
      "Epoch 134/150\n",
      "8000/8000 [==============================] - 0s 9us/step - loss: 8.4834e-07 - rmse: 9.1900e-04 - mae: 7.3663e-04 - r_square: 68.0733 - val_loss: 7.9005e-07 - val_rmse: 8.8573e-04 - val_mae: 7.0931e-04 - val_r_square: 72.9095\n",
      "Epoch 135/150\n",
      "8000/8000 [==============================] - 0s 9us/step - loss: 8.4840e-07 - rmse: 9.1882e-04 - mae: 7.3629e-04 - r_square: 40.9926 - val_loss: 7.9122e-07 - val_rmse: 8.8643e-04 - val_mae: 7.1067e-04 - val_r_square: 138.1910\n",
      "Epoch 136/150\n",
      "8000/8000 [==============================] - 0s 9us/step - loss: 8.4802e-07 - rmse: 9.1817e-04 - mae: 7.3616e-04 - r_square: 213.0369 - val_loss: 7.9058e-07 - val_rmse: 8.8606e-04 - val_mae: 7.1011e-04 - val_r_square: 115.4741\n",
      "Epoch 137/150\n"
     ]
    },
    {
     "name": "stdout",
     "output_type": "stream",
     "text": [
      "8000/8000 [==============================] - 0s 9us/step - loss: 8.4857e-07 - rmse: 9.1979e-04 - mae: 7.3634e-04 - r_square: inf - val_loss: 7.9320e-07 - val_rmse: 8.8757e-04 - val_mae: 7.1196e-04 - val_r_square: 192.2377\n",
      "Epoch 138/150\n",
      "8000/8000 [==============================] - 0s 9us/step - loss: 8.4803e-07 - rmse: 9.1860e-04 - mae: 7.3605e-04 - r_square: 3106.0879 - val_loss: 7.9161e-07 - val_rmse: 8.8666e-04 - val_mae: 7.1095e-04 - val_r_square: 150.1233\n",
      "Epoch 139/150\n",
      "8000/8000 [==============================] - 0s 10us/step - loss: 8.4808e-07 - rmse: 9.1854e-04 - mae: 7.3607e-04 - r_square: 189.0904 - val_loss: 7.9248e-07 - val_rmse: 8.8716e-04 - val_mae: 7.1153e-04 - val_r_square: 174.0692\n",
      "Epoch 140/150\n",
      "8000/8000 [==============================] - 0s 9us/step - loss: 8.4897e-07 - rmse: 9.1956e-04 - mae: 7.3686e-04 - r_square: 156.1833 - val_loss: 7.9232e-07 - val_rmse: 8.8707e-04 - val_mae: 7.1143e-04 - val_r_square: 169.8786\n",
      "Epoch 141/150\n",
      "8000/8000 [==============================] - 0s 10us/step - loss: 8.4764e-07 - rmse: 9.1771e-04 - mae: 7.3590e-04 - r_square: 219.3254 - val_loss: 7.9324e-07 - val_rmse: 8.8760e-04 - val_mae: 7.1199e-04 - val_r_square: 193.3127\n",
      "Epoch 142/150\n",
      "8000/8000 [==============================] - 0s 9us/step - loss: 8.4865e-07 - rmse: 9.1944e-04 - mae: 7.3646e-04 - r_square: 113.2663 - val_loss: 7.9116e-07 - val_rmse: 8.8640e-04 - val_mae: 7.1062e-04 - val_r_square: 136.1931\n",
      "Epoch 143/150\n",
      "8000/8000 [==============================] - 0s 9us/step - loss: 8.4841e-07 - rmse: 9.1886e-04 - mae: 7.3641e-04 - r_square: 145.9729 - val_loss: 7.9018e-07 - val_rmse: 8.8579e-04 - val_mae: 7.0919e-04 - val_r_square: 64.7470\n",
      "Epoch 144/150\n",
      "8000/8000 [==============================] - 0s 9us/step - loss: 8.4859e-07 - rmse: 9.1890e-04 - mae: 7.3610e-04 - r_square: 64.2301 - val_loss: 7.9023e-07 - val_rmse: 8.8582e-04 - val_mae: 7.0916e-04 - val_r_square: 62.8657\n",
      "Epoch 145/150\n",
      "8000/8000 [==============================] - 0s 9us/step - loss: 8.4861e-07 - rmse: 9.1915e-04 - mae: 7.3638e-04 - r_square: 841.9974 - val_loss: 7.9006e-07 - val_rmse: 8.8574e-04 - val_mae: 7.0950e-04 - val_r_square: 85.3227\n",
      "Epoch 146/150\n",
      "8000/8000 [==============================] - 0s 9us/step - loss: 8.4891e-07 - rmse: 9.1912e-04 - mae: 7.3661e-04 - r_square: 309.2198 - val_loss: 7.9004e-07 - val_rmse: 8.8572e-04 - val_mae: 7.0933e-04 - val_r_square: 74.7565\n",
      "Epoch 147/150\n",
      "8000/8000 [==============================] - 0s 9us/step - loss: 8.4786e-07 - rmse: 9.1919e-04 - mae: 7.3576e-04 - r_square: 3273.7078 - val_loss: 7.9065e-07 - val_rmse: 8.8604e-04 - val_mae: 7.0913e-04 - val_r_square: 54.7055\n",
      "Epoch 148/150\n",
      "8000/8000 [==============================] - 0s 9us/step - loss: 8.4866e-07 - rmse: 9.1936e-04 - mae: 7.3642e-04 - r_square: 257.8638 - val_loss: 7.9025e-07 - val_rmse: 8.8587e-04 - val_mae: 7.0977e-04 - val_r_square: 100.3489\n",
      "Epoch 149/150\n",
      "8000/8000 [==============================] - 0s 9us/step - loss: 8.4840e-07 - rmse: 9.1891e-04 - mae: 7.3613e-04 - r_square: 703.5772 - val_loss: 7.9379e-07 - val_rmse: 8.8791e-04 - val_mae: 7.1230e-04 - val_r_square: 206.6095\n",
      "Epoch 150/150\n",
      "8000/8000 [==============================] - 0s 9us/step - loss: 8.4811e-07 - rmse: 9.1878e-04 - mae: 7.3630e-04 - r_square: 866.5220 - val_loss: 7.9109e-07 - val_rmse: 8.8636e-04 - val_mae: 7.1056e-04 - val_r_square: 134.0899\n"
     ]
    },
    {
     "data": {
      "text/plain": [
       "<keras.callbacks.History at 0x2c4e6095278>"
      ]
     },
     "execution_count": 38,
     "metadata": {},
     "output_type": "execute_result"
    }
   ],
   "source": [
    "model=Sequential()\n",
    "model.add(Dense(units=50,input_dim=11,activation='relu'))\n",
    "model.add(Dense(units=30,activation='relu'))\n",
    "model.add(Dense(units=1))\n",
    "adam=optimizers.Adam(lr=10, beta_1=0.9, beta_2=0.999, epsilon=None, decay=0.0, amsgrad=False)\n",
    "model.compile(loss='mse', optimizer=adam,metrics =[rmse,mae,r_square])\n",
    "model.fit(X,y, batch_size=100, epochs=150,validation_split=0.2)"
   ]
  },
  {
   "cell_type": "code",
   "execution_count": null,
   "metadata": {},
   "outputs": [],
   "source": []
  }
 ],
 "metadata": {
  "kernelspec": {
   "display_name": "Python 3",
   "language": "python",
   "name": "python3"
  },
  "language_info": {
   "codemirror_mode": {
    "name": "ipython",
    "version": 3
   },
   "file_extension": ".py",
   "mimetype": "text/x-python",
   "name": "python",
   "nbconvert_exporter": "python",
   "pygments_lexer": "ipython3",
   "version": "3.6.5"
  }
 },
 "nbformat": 4,
 "nbformat_minor": 2
}
